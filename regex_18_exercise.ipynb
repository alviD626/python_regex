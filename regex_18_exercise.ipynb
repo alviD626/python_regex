{
 "cells": [
  {
   "cell_type": "markdown",
   "metadata": {},
   "source": [
    "# **1. Importing the re Module**"
   ]
  },
  {
   "cell_type": "code",
   "execution_count": 1,
   "metadata": {},
   "outputs": [],
   "source": [
    "import re"
   ]
  },
  {
   "cell_type": "markdown",
   "metadata": {},
   "source": [
    "# **2. Basic pattern matching using search()**"
   ]
  },
  {
   "cell_type": "code",
   "execution_count": 2,
   "metadata": {},
   "outputs": [
    {
     "name": "stdout",
     "output_type": "stream",
     "text": [
      "Match found: True\n"
     ]
    }
   ],
   "source": [
    "import re\n",
    "\n",
    "pattern = \"Python\"\n",
    "text = \"I write code in Python.\"\n",
    "match = re.search(pattern, text)\n",
    "print(\"Match found:\", bool(match))"
   ]
  },
  {
   "cell_type": "markdown",
   "metadata": {},
   "source": [
    "# **3. Using** *findall()* **to find all occurrences of a pattern**"
   ]
  },
  {
   "cell_type": "code",
   "execution_count": 8,
   "metadata": {},
   "outputs": [
    {
     "name": "stdout",
     "output_type": "stream",
     "text": [
      "Matches found: 3\n"
     ]
    }
   ],
   "source": [
    "import re\n",
    "\n",
    "pattern = \"a\"\n",
    "text = \"I love to code in Python and it's amazing!\"\n",
    "matches = re.findall(pattern, text)\n",
    "print(\"Matches found:\", len(matches))"
   ]
  },
  {
   "cell_type": "markdown",
   "metadata": {},
   "source": [
    "# **4. Using** *split()* **to split a string based on a pattern**"
   ]
  },
  {
   "cell_type": "code",
   "execution_count": 9,
   "metadata": {},
   "outputs": [
    {
     "name": "stdout",
     "output_type": "stream",
     "text": [
      "Split text: ['I', 'like', 'Python', 'and', 'it', 'is', 'amazing!']\n"
     ]
    },
    {
     "name": "stderr",
     "output_type": "stream",
     "text": [
      "<>:3: SyntaxWarning: invalid escape sequence '\\s'\n",
      "<>:3: SyntaxWarning: invalid escape sequence '\\s'\n",
      "C:\\Users\\alimo\\AppData\\Local\\Temp\\ipykernel_14832\\2362238351.py:3: SyntaxWarning: invalid escape sequence '\\s'\n",
      "  pattern = \"\\s\"\n"
     ]
    }
   ],
   "source": [
    "import re\n",
    "\n",
    "pattern = \"\\s\"\n",
    "text = \"I like Python and it is amazing!\"\n",
    "split_text = re.split(pattern, text)\n",
    "print(\"Split text:\", split_text)"
   ]
  },
  {
   "cell_type": "markdown",
   "metadata": {},
   "source": [
    "# **5. Using** *sub()* **to replace a pattern with a string**"
   ]
  },
  {
   "cell_type": "code",
   "execution_count": 12,
   "metadata": {},
   "outputs": [
    {
     "name": "stdout",
     "output_type": "stream",
     "text": [
      "Substituted text: Java is fun\n"
     ]
    }
   ],
   "source": [
    "import re\n",
    "\n",
    "pattern = \"Python\"\n",
    "replacement = \"Java\"\n",
    "\n",
    "text = \"Python is fun\"\n",
    "substituted_text = re.sub(pattern, replacement, text)\n",
    "print(\"Substituted text:\", substituted_text)"
   ]
  },
  {
   "cell_type": "markdown",
   "metadata": {},
   "source": [
    "# **6. Using** *^* **to match the start of a stirng**"
   ]
  },
  {
   "cell_type": "code",
   "execution_count": 18,
   "metadata": {},
   "outputs": [
    {
     "name": "stdout",
     "output_type": "stream",
     "text": [
      "Matches:  <re.Match object; span=(0, 1), match='I'>\n",
      "Match found: True\n"
     ]
    }
   ],
   "source": [
    "import re\n",
    "\n",
    "pattern = \"^I\"\n",
    "text = \"I love Python!\"\n",
    "\n",
    "match = re.search(pattern, text)\n",
    "print(\"Matches: \", match)\n",
    "print(\"Match found:\", bool(match))"
   ]
  },
  {
   "cell_type": "markdown",
   "metadata": {},
   "source": [
    "# **7. Using** *$* **to match the end of a string**"
   ]
  },
  {
   "cell_type": "code",
   "execution_count": 25,
   "metadata": {},
   "outputs": [
    {
     "name": "stdout",
     "output_type": "stream",
     "text": [
      "Match found:  False\n"
     ]
    }
   ],
   "source": [
    "import re\n",
    "\n",
    "pattern = \"Python!$\"\n",
    "# text = \"Python!\" # Match found: True\n",
    "text = \"Python programmign is great!\"\n",
    "match = re.search(pattern, text)\n",
    "print(\"Match found: \", bool(match))"
   ]
  },
  {
   "cell_type": "markdown",
   "metadata": {},
   "source": [
    "# **8. Using** [] **to create a character set**"
   ]
  },
  {
   "cell_type": "code",
   "execution_count": 27,
   "metadata": {},
   "outputs": [
    {
     "name": "stdout",
     "output_type": "stream",
     "text": [
      "Match found:  ['python', 'Python']\n",
      "Matches found: 2\n"
     ]
    }
   ],
   "source": [
    "import re\n",
    "\n",
    "pattern = \"[Pp]ython\"\n",
    "text = \"I write code in python and Python!\"\n",
    "matches = re.findall(pattern,text)\n",
    "print(\"Match found: \", matches)\n",
    "print(\"Matches found:\",len(matches))"
   ]
  },
  {
   "cell_type": "markdown",
   "metadata": {},
   "source": [
    "# **9. Using** . **to match any character**"
   ]
  },
  {
   "cell_type": "code",
   "execution_count": 29,
   "metadata": {},
   "outputs": [
    {
     "name": "stdout",
     "output_type": "stream",
     "text": [
      "Matches found: ['Python', 'Pyt3on']\n",
      "Matches found: 2\n"
     ]
    }
   ],
   "source": [
    "import re\n",
    "\n",
    "pattern = \"Py...n\"\n",
    "text = \"I love Python, Pyt3on, Py45n, and Py@#n!\"\n",
    "matches = re.findall(pattern,text)\n",
    "print(\"Matches found:\",matches)\n",
    "print(\"Matches found:\",len(matches))"
   ]
  },
  {
   "cell_type": "markdown",
   "metadata": {},
   "source": [
    "# **10. Using *  to match zero or more occurrences of a character**"
   ]
  },
  {
   "cell_type": "code",
   "execution_count": 32,
   "metadata": {},
   "outputs": [
    {
     "name": "stdout",
     "output_type": "stream",
     "text": [
      "Found: ['Python codin']\n",
      "Found: ['Pyt3on']\n",
      "Found: ['Py45n']\n",
      "Found: ['Py@#n']\n",
      "Found: ['Pyn']\n",
      "Matches found: 5\n"
     ]
    }
   ],
   "source": [
    "import re\n",
    "\n",
    "pattern = \"Py.*n\"\n",
    "count = 0\n",
    "text = [\"Python coding\", \"Pyt3on\", \"Java\", \"Py45n\", \"Py@#n\", \"Pyn\"]\n",
    "for i in text:\n",
    "    if (re.findall(pattern,i)):\n",
    "        print(\"Found:\", re.findall(pattern,i))\n",
    "        count += 1\n",
    "print(\"Matches found:\",count)"
   ]
  },
  {
   "cell_type": "markdown",
   "metadata": {},
   "source": [
    "# **11. Using** *+* **to match one or more occurrences of a character**"
   ]
  },
  {
   "cell_type": "code",
   "execution_count": 33,
   "metadata": {},
   "outputs": [
    {
     "name": "stdout",
     "output_type": "stream",
     "text": [
      "Found: ['Python codin']\n",
      "Found: ['Pyt3on']\n",
      "Found: ['Py45n']\n",
      "Found: ['Py@#n']\n",
      "Matches found: 4\n"
     ]
    }
   ],
   "source": [
    "import re\n",
    "\n",
    "pattern = \"Py.+n\"\n",
    "count = 0\n",
    "text = [\"Python coding\", \"Pyt3on\", \"Java\", \"Py45n\", \"Py@#n\", \"Pyn\"]\n",
    "for i in text:\n",
    "    if (re.findall(pattern,i)):\n",
    "        print(\"Found:\", re.findall(pattern,i))\n",
    "        count += 1\n",
    "print(\"Matches found:\",count)"
   ]
  },
  {
   "cell_type": "markdown",
   "metadata": {},
   "source": [
    "# **12. Using** *?* **to match zero or one occurrence of a character**"
   ]
  },
  {
   "cell_type": "code",
   "execution_count": 34,
   "metadata": {},
   "outputs": [
    {
     "name": "stdout",
     "output_type": "stream",
     "text": [
      "Found: ['Pyn']\n",
      "Matches found: 1\n"
     ]
    }
   ],
   "source": [
    "import re\n",
    "\n",
    "pattern = \"Py.?n\"\n",
    "count = 0\n",
    "text = [\"Python coding\", \"Pyt3on\", \"Java\", \"Py45n\", \"Py@#n\", \"Pyn\"]\n",
    "for i in text:\n",
    "    if (re.findall(pattern,i)):\n",
    "        print(\"Found:\", re.findall(pattern,i))\n",
    "        count += 1\n",
    "print(\"Matches found:\",count)"
   ]
  },
  {
   "cell_type": "markdown",
   "metadata": {},
   "source": [
    "# **13. Using** *{}* **to specify the number of occurrences of a character**"
   ]
  },
  {
   "cell_type": "code",
   "execution_count": 38,
   "metadata": {},
   "outputs": [
    {
     "name": "stdout",
     "output_type": "stream",
     "text": [
      "Found: ['Pyn', 'Pyyn']\n",
      "Matches found: 2\n"
     ]
    }
   ],
   "source": [
    "import re\n",
    "\n",
    "pattern = \"Py{1,2}n\"\n",
    "text = \"I love Pyn, Pyyn, and Pyyyn!\"\n",
    "matches = re.findall(pattern,text)\n",
    "print(\"Found:\",matches)\n",
    "print(\"Matches found:\",len(matches))"
   ]
  },
  {
   "cell_type": "markdown",
   "metadata": {},
   "source": [
    "# **14. Using** \\d **to match digits**"
   ]
  },
  {
   "cell_type": "code",
   "execution_count": 40,
   "metadata": {},
   "outputs": [
    {
     "name": "stdout",
     "output_type": "stream",
     "text": [
      "['123', '456', '7890']\n",
      "Matches found: 3\n"
     ]
    },
    {
     "name": "stderr",
     "output_type": "stream",
     "text": [
      "<>:3: SyntaxWarning: invalid escape sequence '\\d'\n",
      "<>:3: SyntaxWarning: invalid escape sequence '\\d'\n",
      "C:\\Users\\alimo\\AppData\\Local\\Temp\\ipykernel_14832\\3132161001.py:3: SyntaxWarning: invalid escape sequence '\\d'\n",
      "  pattern = \"\\d+\"\n"
     ]
    }
   ],
   "source": [
    "import re\n",
    "\n",
    "pattern = \"\\d+\"\n",
    "text = \"My phone number is 123-456-7890.\"\n",
    "matches = re.findall(pattern,text)\n",
    "print(matches)\n",
    "print(\"Matches found:\",len(matches))"
   ]
  },
  {
   "cell_type": "markdown",
   "metadata": {},
   "source": [
    "# **15. Using** \\w **to match alphanumeric characters**"
   ]
  },
  {
   "cell_type": "code",
   "execution_count": 43,
   "metadata": {},
   "outputs": [
    {
     "name": "stdout",
     "output_type": "stream",
     "text": [
      "['I_love_Python']\n",
      "Matches found: 1\n"
     ]
    },
    {
     "name": "stderr",
     "output_type": "stream",
     "text": [
      "<>:3: SyntaxWarning: invalid escape sequence '\\w'\n",
      "<>:3: SyntaxWarning: invalid escape sequence '\\w'\n",
      "C:\\Users\\alimo\\AppData\\Local\\Temp\\ipykernel_14832\\2148589002.py:3: SyntaxWarning: invalid escape sequence '\\w'\n",
      "  pattern = \"\\w+\"\n"
     ]
    }
   ],
   "source": [
    "import re\n",
    "\n",
    "pattern = \"\\w+\"\n",
    "# text = \"I love Python!\" #output: ['I', 'love', 'Python']\n",
    "text = \"I_love_Python!\"\n",
    "matches = re.findall(pattern,text)\n",
    "print(matches)\n",
    "print(\"Matches found:\",len(matches))"
   ]
  },
  {
   "cell_type": "markdown",
   "metadata": {},
   "source": [
    "# **16. Using** \\s **to match whitespace characters**"
   ]
  },
  {
   "cell_type": "code",
   "execution_count": 44,
   "metadata": {},
   "outputs": [
    {
     "name": "stdout",
     "output_type": "stream",
     "text": [
      "[' ', ' ']\n",
      "Matches found: 2\n"
     ]
    },
    {
     "name": "stderr",
     "output_type": "stream",
     "text": [
      "<>:3: SyntaxWarning: invalid escape sequence '\\s'\n",
      "<>:3: SyntaxWarning: invalid escape sequence '\\s'\n",
      "C:\\Users\\alimo\\AppData\\Local\\Temp\\ipykernel_14832\\4148621731.py:3: SyntaxWarning: invalid escape sequence '\\s'\n",
      "  pattern = \"\\s+\"\n"
     ]
    }
   ],
   "source": [
    "import re\n",
    "\n",
    "pattern = \"\\s+\"\n",
    "text = \"I love Python!\"\n",
    "matches = re.findall(pattern,text)\n",
    "print(matches)\n",
    "print(\"Matches found:\",len(matches))"
   ]
  },
  {
   "cell_type": "markdown",
   "metadata": {},
   "source": [
    "# **17. Using** | **as an OR operator**"
   ]
  },
  {
   "cell_type": "code",
   "execution_count": 49,
   "metadata": {},
   "outputs": [
    {
     "name": "stdout",
     "output_type": "stream",
     "text": [
      "['Python ']\n",
      "Matches found: 1\n"
     ]
    }
   ],
   "source": [
    "import re\n",
    "\n",
    "pattern = \"Python | Java\"\n",
    "# text = \"I write code in Python and Java!\" # output ['Python','Java']\n",
    "text = \"I write code in Python and Jave!\"\n",
    "matches = re.findall(pattern,text)\n",
    "print(matches)\n",
    "print(\"Matches found:\",len(matches))"
   ]
  },
  {
   "cell_type": "markdown",
   "metadata": {},
   "source": [
    "# **18. Using** () **to group patterns**"
   ]
  },
  {
   "cell_type": "code",
   "execution_count": 52,
   "metadata": {},
   "outputs": [
    {
     "name": "stdout",
     "output_type": "stream",
     "text": [
      "Area code:  123\n",
      "Local exchange:  456\n",
      "Line Number:  7890\n"
     ]
    },
    {
     "name": "stderr",
     "output_type": "stream",
     "text": [
      "<>:3: SyntaxWarning: invalid escape sequence '\\d'\n",
      "<>:3: SyntaxWarning: invalid escape sequence '\\d'\n",
      "C:\\Users\\alimo\\AppData\\Local\\Temp\\ipykernel_14832\\2046526398.py:3: SyntaxWarning: invalid escape sequence '\\d'\n",
      "  pattern = \"(\\d{3})-(\\d{3})-(\\d{4})\"\n"
     ]
    }
   ],
   "source": [
    "import re\n",
    "\n",
    "pattern = \"(\\d{3})-(\\d{3})-(\\d{4})\"\n",
    "text = \"My phone number is 123-456-7890.\"\n",
    "matches = re.search(pattern,text)\n",
    "if matches:\n",
    "    print(\"Area code: \", matches.group(1))\n",
    "    print(\"Local exchange: \", matches.group(2))\n",
    "    print(\"Line Number: \", matches.group(3))"
   ]
  },
  {
   "cell_type": "code",
   "execution_count": null,
   "metadata": {},
   "outputs": [],
   "source": []
  }
 ],
 "metadata": {
  "kernelspec": {
   "display_name": "base",
   "language": "python",
   "name": "python3"
  },
  "language_info": {
   "codemirror_mode": {
    "name": "ipython",
    "version": 3
   },
   "file_extension": ".py",
   "mimetype": "text/x-python",
   "name": "python",
   "nbconvert_exporter": "python",
   "pygments_lexer": "ipython3",
   "version": "3.12.4"
  }
 },
 "nbformat": 4,
 "nbformat_minor": 2
}
